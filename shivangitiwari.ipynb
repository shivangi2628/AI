{
  "nbformat": 4,
  "nbformat_minor": 0,
  "metadata": {
    "colab": {
      "provenance": []
    },
    "kernelspec": {
      "name": "python3",
      "display_name": "Python 3"
    },
    "language_info": {
      "name": "python"
    }
  },
  "cells": [
    {
      "cell_type": "code",
      "execution_count": 19,
      "metadata": {
        "colab": {
          "base_uri": "https://localhost:8080/"
        },
        "id": "jcpEwr8B511l",
        "outputId": "2989fb33-382c-4e09-dea8-fb349368d285"
      },
      "outputs": [
        {
          "output_type": "stream",
          "name": "stdout",
          "text": [
            "The 1D array is :\n",
            " [1 2 3 4 5]\n"
          ]
        }
      ],
      "source": [
        "#{{{{{{{{{BASIC ARRAY CREATION}}}}}}}}}\n",
        "#(1)Programme for 1D array with elements [1,2,3,4,5]\n",
        "import numpy as np\n",
        "arr=np.array([1,2,3,4,5])\n",
        "print(\"The 1D array is :\\n\",arr)"
      ]
    },
    {
      "cell_type": "code",
      "source": [
        "#(2)Programme for 2D array with the elements [[1, 2, 3], [4, 5, 6]].\n",
        "arr2=np.array([[1,2,3],[4,5,6]])\n",
        "print(\"The 2D array is :\\n\",arr2)"
      ],
      "metadata": {
        "colab": {
          "base_uri": "https://localhost:8080/"
        },
        "id": "kl2JOPU46Grx",
        "outputId": "ad9d98ff-eb44-462e-c504-44e9dc5508fe"
      },
      "execution_count": 18,
      "outputs": [
        {
          "output_type": "stream",
          "name": "stdout",
          "text": [
            "The 2D array is :\n",
            " [[1 2 3]\n",
            " [4 5 6]]\n"
          ]
        }
      ]
    },
    {
      "cell_type": "code",
      "source": [
        "#(3)Programme for 3x3 array filled with zeros.\n",
        "arr3=np.zeros([3,3])\n",
        "print(\"Zeroes array :\\n\",arr3)"
      ],
      "metadata": {
        "colab": {
          "base_uri": "https://localhost:8080/"
        },
        "id": "naZhp6VG6Rd8",
        "outputId": "49a7ac6f-e8bb-475c-9ac1-614395da15e2"
      },
      "execution_count": 15,
      "outputs": [
        {
          "output_type": "stream",
          "name": "stdout",
          "text": [
            "Zeroes array :\n",
            " [[0. 0. 0.]\n",
            " [0. 0. 0.]\n",
            " [0. 0. 0.]]\n"
          ]
        }
      ]
    },
    {
      "cell_type": "code",
      "source": [
        "# (4)Progarmme for 2x2 array filled with ones.\n",
        "arr4=np.ones([2,2])\n",
        "print(\"Ones array :\\n\",arr4)"
      ],
      "metadata": {
        "colab": {
          "base_uri": "https://localhost:8080/"
        },
        "id": "geDubdmE6gEd",
        "outputId": "0c53e91a-eabc-43d3-d157-673f272eff69"
      },
      "execution_count": 16,
      "outputs": [
        {
          "output_type": "stream",
          "name": "stdout",
          "text": [
            "Ones array :\n",
            " [[1. 1.]\n",
            " [1. 1.]]\n"
          ]
        }
      ]
    },
    {
      "cell_type": "code",
      "source": [
        "#{{{{{{{{{ARRAY OPERATIONS}}}}}}}}}\n",
        "''' (1)Create two arrays: a = [1, 2, 3] and b = [4, 5, 6].\n",
        "(2) Perform element-wise addition, subtraction, multiplication, and division on these arrays.'''\n",
        "a=np.array([1,2,3])\n",
        "b=np.array([4,5,6])\n",
        "addition=a+b\n",
        "print(\"Array a \",a)\n",
        "print(\"Array b\",b)\n",
        "print(\"Addition :\\n\",np.add(a,b))\n",
        "print(\"Subtraction :\\n\",np.subtract(a,b))\n",
        "print(\"Multiplication :\\n\",np.multiply(a,b))\n",
        "print(\"Division :\\n\",np.divide(a,b))"
      ],
      "metadata": {
        "colab": {
          "base_uri": "https://localhost:8080/"
        },
        "id": "ZCq9jBFq7LH2",
        "outputId": "8200741e-4f20-4d24-a391-3b0b1767d4c1"
      },
      "execution_count": 17,
      "outputs": [
        {
          "output_type": "stream",
          "name": "stdout",
          "text": [
            "Array a  [1 2 3]\n",
            "Array b [4 5 6]\n",
            "Addition :\n",
            " [5 7 9]\n",
            "Subtraction :\n",
            " [-3 -3 -3]\n",
            "Multiplication :\n",
            " [ 4 10 18]\n",
            "Division :\n",
            " [0.25 0.4  0.5 ]\n"
          ]
        }
      ]
    },
    {
      "cell_type": "code",
      "source": [
        "# {{{{{{{{{MATRIX MULTIPLICATION}}}}}}}}}\n",
        "'''(1)Create two matrices: matrix_a = [[1, 2], [3, 4]] and matrix_b = [[5, 6], [7, 8]].\n",
        "(2) Perform matrix multiplication on these matrices.'''\n",
        "matrix_a=[[1,2],[3,4]]\n",
        "matrix_b=[[5,6],[7,8]]\n",
        "print(\"The Matrix Multiplication is :\")\n",
        "matrixmultiplication=np.dot(matrix_a,matrix_b)\n",
        "print(matrixmultiplication)"
      ],
      "metadata": {
        "colab": {
          "base_uri": "https://localhost:8080/"
        },
        "id": "7aWQAsV18-mN",
        "outputId": "a8f9b1e5-9ad7-41a2-e5cc-d305d7dfc5d0"
      },
      "execution_count": 12,
      "outputs": [
        {
          "output_type": "stream",
          "name": "stdout",
          "text": [
            "The Matrix Multiplication is :\n",
            "[[19 22]\n",
            " [43 50]]\n"
          ]
        }
      ]
    },
    {
      "cell_type": "code",
      "source": [
        "#{{{{{{{{{{BROADCASTING}}}}}}}}}}\n",
        "'''(1)Create an array: array = [1, 2, 3].\n",
        "(2)Multiply this array by a scalar value, e.g., 2, using broadcasting.'''\n",
        "array=np.array([1,2,3])\n",
        "print(\"Array :\\n\",array)\n",
        "scalar=2\n",
        "#broadcasting\n",
        "broadcast_array=array*scalar\n",
        "print(\"Broadcasted array :\\n\",broadcast_array)\n",
        "\n"
      ],
      "metadata": {
        "colab": {
          "base_uri": "https://localhost:8080/"
        },
        "id": "ir5821458uLM",
        "outputId": "7fb6c40f-0952-4391-f6da-95ddd7e85c5d"
      },
      "execution_count": 11,
      "outputs": [
        {
          "output_type": "stream",
          "name": "stdout",
          "text": [
            "Array :\n",
            " [1 2 3]\n",
            "Broadcasted array :\n",
            " [2 4 6]\n"
          ]
        }
      ]
    },
    {
      "cell_type": "code",
      "source": [
        "#{{{{{{{{{{STATISTICAL OPERATIONS}}}}}}}}}}\n",
        "'''(1)Create an array: data = [1, 2, 3, 4, 5].\n",
        "(2)Calculate the mean, standard deviation, and sum of this array.'''\n",
        "data=np.array([1,2,3,4,5])\n",
        "mean_data=np.mean(data)\n",
        "std_data=np.std(data)\n",
        "sum_data=np.sum(data)\n",
        "print(\"Data :\\n\",data)\n",
        "print(\"Mean :\\n\",mean_data)\n",
        "print(\"Standard Deviation :\\n\",std_data)\n",
        "print(\"Sum :\\n\",sum_data)"
      ],
      "metadata": {
        "colab": {
          "base_uri": "https://localhost:8080/"
        },
        "id": "1NPJ3zdz-uEu",
        "outputId": "ab766267-bac9-4c8a-e9a0-92cf0089db07"
      },
      "execution_count": 20,
      "outputs": [
        {
          "output_type": "stream",
          "name": "stdout",
          "text": [
            "Data :\n",
            " [1 2 3 4 5]\n",
            "Mean :\n",
            " 3.0\n",
            "Standard Deviation :\n",
            " 1.4142135623730951\n",
            "Sum :\n",
            " 15\n"
          ]
        }
      ]
    },
    {
      "cell_type": "code",
      "source": [
        "#{{{{{{{{{{RESHAPING ARRAYS}}}}}}}}}}\n",
        "'''(1)Create a 1D array: array = [1, 2, 3, 4, 5, 6].\n",
        "(2)Reshape this array to a 2x3 array.\n",
        "(3) Reshape the same array to a 3x2 array.'''\n",
        "array=np.array([1,2,3,4,5,6])\n",
        "print(\"Array :/n\",array)\n",
        "reshape_array=array.reshape(2,3)\n",
        "reshapeagain_array=reshape_array.reshape(3,2)\n",
        "print(\"2*3 array :/n\",reshape_array)\n",
        "print(\"3*2 array :/n\",reshapeagain_array)"
      ],
      "metadata": {
        "colab": {
          "base_uri": "https://localhost:8080/"
        },
        "id": "Xs0-H5EU_Wln",
        "outputId": "de21ae09-daa7-480d-af11-6ffed7db4b97"
      },
      "execution_count": 21,
      "outputs": [
        {
          "output_type": "stream",
          "name": "stdout",
          "text": [
            "Array :/n [1 2 3 4 5 6]\n",
            "2*3 array :/n [[1 2 3]\n",
            " [4 5 6]]\n",
            "3*2 array :/n [[1 2]\n",
            " [3 4]\n",
            " [5 6]]\n"
          ]
        }
      ]
    },
    {
      "cell_type": "code",
      "source": [
        "#{{{{{{{{{{ELEMENT WISE OPERATIONS}}}}}}}}}}\n",
        "'''(1)Create two arrays: array_a = [1, 2, 3] and array_b = [4, 5, 6].\n",
        "(2) Perform element-wise addition and multiplication on these arrays.'''\n",
        "array_a=np.array([1,2,3])\n",
        "array_b=np.array([4,5,6])\n",
        "print(\"Array a :\\n\",array_a)\n",
        "print(\"Array b :\\n\",array_b)\n",
        "multi_array=np.multiply(array_a,array_b)\n",
        "print(\"Multiplication :\\n\",multi_array)\n",
        "add_array=np.add(array_a,array_b)\n",
        "print(\"Addition :\\n\",add_array)"
      ],
      "metadata": {
        "colab": {
          "base_uri": "https://localhost:8080/"
        },
        "id": "X5cKN0CvAyXz",
        "outputId": "6173dcde-ffb6-47ec-a93f-1c15713ff32c"
      },
      "execution_count": 22,
      "outputs": [
        {
          "output_type": "stream",
          "name": "stdout",
          "text": [
            "Array a :\n",
            " [1 2 3]\n",
            "Array b :\n",
            " [4 5 6]\n",
            "Multiplication :\n",
            " [ 4 10 18]\n",
            "Addition :\n",
            " [5 7 9]\n"
          ]
        }
      ]
    },
    {
      "cell_type": "code",
      "source": [
        "array_a=np.array([1,2,3])\n",
        "array_b=np.array([4,5,6])\n",
        "print(\"A = \",array_a)\n",
        "print(\"B = \",array_b)\n",
        "dot_array=np.dot(array_a,array_b)\n",
        "print(\"Dot product :\\n\",dot_array)"
      ],
      "metadata": {
        "id": "KXNszY0qBiT8"
      },
      "execution_count": null,
      "outputs": []
    },
    {
      "cell_type": "code",
      "source": [
        "#{{{{{{{{{{SLICING AND INDEXING}}}}}}}}}}\n",
        "'''(1) Create a 2D array: array_2d = [[1, 2, 3], [4, 5, 6], [7, 8, 9]].\n",
        "(2) Access the element at row 1, column 1.\n",
        "(3) Access row 1.\n",
        "(4) Access column 1.'''\n",
        "array_2D=np.array([[1,2,3],[4,5,6],[7,8,9]])\n",
        "print(\"Array :\\n\",array_2D)\n",
        "print(\"Access Array :\\n\")\n",
        "access=array_2D[1,1]\n",
        "\n",
        "row =array_2D[0,:]\n",
        "column =array_2D[:,2]\n",
        "print(access)\n",
        "print(\"Row :\\n\",row)\n",
        "print(\"Column :\\n\",column)"
      ],
      "metadata": {
        "colab": {
          "base_uri": "https://localhost:8080/"
        },
        "id": "2bDtg4xsBpeq",
        "outputId": "d2c7fa95-22ef-4664-c538-93dc90acb082"
      },
      "execution_count": null,
      "outputs": [
        {
          "output_type": "stream",
          "name": "stdout",
          "text": [
            "[[1 2 3]\n",
            " [4 5 6]\n",
            " [7 8 9]]\n",
            "5\n",
            "[1 2 3]\n",
            "[3 6 9]\n"
          ]
        }
      ]
    },
    {
      "cell_type": "code",
      "source": [
        "#{{{{{{{{{CREATING RANDOM ARRAYS}}}}}}}}}\n",
        "'''(1) Create a 3x3 array with random floats.\n",
        "(2) Create a 3x3 array with random integers between 0 and 10.'''\n",
        "arr3=np.random.rand(3,3)\n",
        "print(\"Random values array :\\n\",arr3)\n",
        "\n",
        "arr4=np.random.randint(0,10,(3,3))\n",
        "print(\"Intergers between 0 to 10 :\\n\",arr4)\n"
      ],
      "metadata": {
        "colab": {
          "base_uri": "https://localhost:8080/"
        },
        "id": "bjXEi-JXEh-S",
        "outputId": "5064d0fd-0a41-4ccf-f4fe-fc2c7e2a1787"
      },
      "execution_count": null,
      "outputs": [
        {
          "output_type": "stream",
          "name": "stdout",
          "text": [
            "[[0.30357219 0.89708461 0.88262885]\n",
            " [0.36612427 0.10856766 0.58366763]\n",
            " [0.4133215  0.46085094 0.49645984]]\n",
            "[[5 6 1]\n",
            " [1 4 9]\n",
            " [5 9 7]]\n"
          ]
        }
      ]
    },
    {
      "cell_type": "code",
      "source": [
        "#{{{{{{{{{STACKING AND CONCATENATING ARRAYS}}}}}}}}}\n",
        "'''(1)Create two arrays: array_a = [1, 2, 3] and array_b = [4, 5, 6].\n",
        "(2)Perform vertical stacking on these arrays.\n",
        "(3) Perform horizontal stacking on these arrays.\n",
        "'''\n",
        "array_a=np.array([1,2,3])\n",
        "array_b=np.array([4,5,6])\n",
        "print(\"Array a :\\n\",array_a)\n",
        "print(\"Array b :\\n\",array_b)\n",
        "v_stack=np.vstack((array_a,array_b))\n",
        "h_stack=np.hstack((array_a,array_b))\n",
        "print(\"V stack :\\n\",v_stack)\n",
        "print(\"H stack :\\n\",h_stack)"
      ],
      "metadata": {
        "colab": {
          "base_uri": "https://localhost:8080/"
        },
        "id": "okIRk6fDFuaC",
        "outputId": "72ef2460-7a49-4202-a027-bd2e8141960d"
      },
      "execution_count": 23,
      "outputs": [
        {
          "output_type": "stream",
          "name": "stdout",
          "text": [
            "Array a :\n",
            " [1 2 3]\n",
            "Array b :\n",
            " [4 5 6]\n",
            "[[1 2 3]\n",
            " [4 5 6]]\n",
            "[1 2 3 4 5 6]\n"
          ]
        }
      ]
    },
    {
      "cell_type": "code",
      "source": [
        "#{{{{{{{{{{BASIC ARRAY CREATION}}}}}}}}}}\n",
        "#(1)Create an array with 10 equally spaced numbers between 0 and 1.\n",
        "import numpy as np\n",
        "print(np.linspace(0,1,10))\n"
      ],
      "metadata": {
        "colab": {
          "base_uri": "https://localhost:8080/"
        },
        "id": "Db9yXswTH-iI",
        "outputId": "cf43003a-bbe3-47f3-9560-6421da5a2a5d"
      },
      "execution_count": null,
      "outputs": [
        {
          "output_type": "stream",
          "name": "stdout",
          "text": [
            "[0.         0.11111111 0.22222222 0.33333333 0.44444444 0.55555556\n",
            " 0.66666667 0.77777778 0.88888889 1.        ]\n"
          ]
        }
      ]
    },
    {
      "cell_type": "code",
      "source": [
        "#(2)Create a 1D array of 20 random integers between 1 and 100.\n",
        "array=np.random.randint(1,101,20)\n",
        "print(array)"
      ],
      "metadata": {
        "colab": {
          "base_uri": "https://localhost:8080/"
        },
        "id": "GNfrtHuBIe3t",
        "outputId": "b5b2498d-acc0-40ff-9362-853408a75307"
      },
      "execution_count": null,
      "outputs": [
        {
          "output_type": "stream",
          "name": "stdout",
          "text": [
            "[18 70 87 68 39 66 10 51 88 20 31 59  6 99 55 20 73 75  8  1]\n"
          ]
        }
      ]
    },
    {
      "cell_type": "code",
      "source": [
        "#(3)Create a 2D array with the shape (4, 4) filled with the value 7.\n",
        "array=np.array([[7,7,7,7],[7,7,7,7],[7,7,7,7],[7,7,7,7]])\n",
        "print(array)\n"
      ],
      "metadata": {
        "colab": {
          "base_uri": "https://localhost:8080/"
        },
        "id": "db0PGkhbJHS3",
        "outputId": "435dcbd6-0de3-4381-d4a3-9a3141d22779"
      },
      "execution_count": null,
      "outputs": [
        {
          "output_type": "stream",
          "name": "stdout",
          "text": [
            "[[7 7 7 7]\n",
            " [7 7 7 7]\n",
            " [7 7 7 7]\n",
            " [7 7 7 7]]\n"
          ]
        }
      ]
    },
    {
      "cell_type": "code",
      "source": [
        "#(4)Create a 1D array of 10 elements with the same value, 3.14.\n",
        "array=np.array([3.14])\n",
        "piarr=np.array(str(array)*10)\n",
        "print(piarr)"
      ],
      "metadata": {
        "colab": {
          "base_uri": "https://localhost:8080/"
        },
        "id": "eWFeBEE1Jhzp",
        "outputId": "a7b3e4e8-7ab5-4426-b43c-af6691226488"
      },
      "execution_count": null,
      "outputs": [
        {
          "output_type": "stream",
          "name": "stdout",
          "text": [
            "[3.14][3.14][3.14][3.14][3.14][3.14][3.14][3.14][3.14][3.14]\n"
          ]
        }
      ]
    },
    {
      "cell_type": "code",
      "source": [
        "#(5)Create a 2D array with the shape (3, 3) with values ranging from 1 to 9.\n",
        "array=np.arange(1,10).reshape(3,3)\n",
        "print(array)"
      ],
      "metadata": {
        "colab": {
          "base_uri": "https://localhost:8080/"
        },
        "id": "5q4c2VNZwZq4",
        "outputId": "e3ede9b0-2d74-4fb6-bcf8-634b389e3d4b"
      },
      "execution_count": null,
      "outputs": [
        {
          "output_type": "stream",
          "name": "stdout",
          "text": [
            "[[1 2 3]\n",
            " [4 5 6]\n",
            " [7 8 9]]\n"
          ]
        }
      ]
    },
    {
      "cell_type": "code",
      "source": [
        "#{{{{{{{{{{ARRAY OPERATIONS }}}}}}}}}}}\n",
        "#(1)Create two arrays: a = [1, 3, 5, 7, 9] and b = [2, 4, 6, 8, 10]. Perform element-wise subtraction.\n",
        "a=np.array([1,3,5,7,9])\n",
        "b=np.array([2,4,6,8,10])\n",
        "#sub=a-b\n",
        "#print(sub)\n",
        "#or\n",
        "sub=np.subtract(a,b)\n",
        "print(sub)"
      ],
      "metadata": {
        "colab": {
          "base_uri": "https://localhost:8080/"
        },
        "id": "2tfVUhV2xUCh",
        "outputId": "c2a9f11f-704f-4851-d320-2ab54738fbb0"
      },
      "execution_count": null,
      "outputs": [
        {
          "output_type": "stream",
          "name": "stdout",
          "text": [
            "[-1 -1 -1 -1 -1]\n"
          ]
        }
      ]
    },
    {
      "cell_type": "code",
      "source": [
        "#(2)Multiply array a by 3: a = [2, 4, 6, 8].\n",
        "import numpy as np\n",
        "a=np.array([2,4,6,8])\n",
        "multiply=a*3\n",
        "print(multiply)"
      ],
      "metadata": {
        "colab": {
          "base_uri": "https://localhost:8080/"
        },
        "id": "EtH6TpKtykiW",
        "outputId": "13714c4d-f5bf-4e74-d4de-acc6e895b25c"
      },
      "execution_count": null,
      "outputs": [
        {
          "output_type": "stream",
          "name": "stdout",
          "text": [
            "[ 6 12 18 24]\n"
          ]
        }
      ]
    },
    {
      "cell_type": "code",
      "source": [
        "#(3)Divide array a by 2: a = [10, 20, 30, 40].\n",
        "import numpy as np\n",
        "a=np.array([2,4,6,8])\n",
        "divide= a/2\n",
        "print(divide)\n",
        "\n"
      ],
      "metadata": {
        "id": "lDM1UBi-zawj",
        "colab": {
          "base_uri": "https://localhost:8080/"
        },
        "outputId": "188681db-3f71-4621-f962-4c6d7d0dd881"
      },
      "execution_count": null,
      "outputs": [
        {
          "output_type": "stream",
          "name": "stdout",
          "text": [
            "[1. 2. 3. 4.]\n"
          ]
        }
      ]
    },
    {
      "cell_type": "code",
      "source": [
        "#(4)Find the element-wise modulus of two arrays: a = [5, 10, 15], b = [2, 3, 4].\n",
        "import numpy as np\n",
        "a=np.array([5,10,15])\n",
        "b=np.array([2,3,4])\n",
        "modu=np.mod(a,b)\n",
        "print(modu)\n"
      ],
      "metadata": {
        "colab": {
          "base_uri": "https://localhost:8080/"
        },
        "id": "guYgv0pIzgTl",
        "outputId": "169744d9-83a6-42d2-98cb-e679c7611814"
      },
      "execution_count": null,
      "outputs": [
        {
          "output_type": "stream",
          "name": "stdout",
          "text": [
            "[1 1 3]\n"
          ]
        }
      ]
    },
    {
      "cell_type": "code",
      "source": [
        "#(5)Create two arrays: a = [1, 2, 3], b = [4, 5, 6]. Compute the dot product.\n",
        "arr=np.array([1,2,3])\n",
        "arr2=np.array([4,5,6])\n",
        "pro=np.dot(arr,arr2)\n",
        "print(pro)"
      ],
      "metadata": {
        "colab": {
          "base_uri": "https://localhost:8080/"
        },
        "id": "58LyHDbt41SD",
        "outputId": "161cda73-1871-4dc5-88ca-1c411dba85f0"
      },
      "execution_count": null,
      "outputs": [
        {
          "output_type": "stream",
          "name": "stdout",
          "text": [
            "32\n"
          ]
        }
      ]
    },
    {
      "cell_type": "code",
      "source": [
        "#{{{{{{{{{{MATRIX MULTIPLICATION}}}}}}}}}}\n",
        "'''(1)Create two matrices: a = [[2, 3], [4, 5]] and b = [[1, 0], [0, 1]]. Perform matrix\n",
        "multiplication.'''\n",
        "a=np.array([[2,3],[4,5]])\n",
        "b=np.array([[1,0],[0,1]])\n",
        "matrix_mul=np.matmul(a,b)\n",
        "print(matrix_mul)"
      ],
      "metadata": {
        "colab": {
          "base_uri": "https://localhost:8080/"
        },
        "id": "L4kcJcBF5URV",
        "outputId": "48c7f10d-c4e1-4e0e-ce0b-2902297486e2"
      },
      "execution_count": null,
      "outputs": [
        {
          "output_type": "stream",
          "name": "stdout",
          "text": [
            "[[2 3]\n",
            " [4 5]]\n"
          ]
        }
      ]
    },
    {
      "cell_type": "code",
      "source": [
        "#(2)Multiply a 3x3 matrix with a 3x1 vector.\n",
        "a=np.array([[[1,2,3],[4,5,6],[7,8,9]]])\n",
        "vec_a=np.array([[1],[2],[3]])\n",
        "mul=np.dot(a,vec_a)\n",
        "print(mul)"
      ],
      "metadata": {
        "colab": {
          "base_uri": "https://localhost:8080/"
        },
        "id": "35sTYYvYTXyc",
        "outputId": "9b17e56d-e4a4-42b2-d45f-d7a554c87f50"
      },
      "execution_count": null,
      "outputs": [
        {
          "output_type": "stream",
          "name": "stdout",
          "text": [
            "[[[14]\n",
            "  [32]\n",
            "  [50]]]\n"
          ]
        }
      ]
    },
    {
      "cell_type": "code",
      "source": [
        "'''(3)Create a 4x4 identity matrix and multiply it by a 4x4 matrix filled with random\n",
        "integers.'''\n",
        "array=np.eye(4)\n",
        "arra2=np.random.randint(1,10,(4,4))\n",
        "multi=np.dot(array,arra2)\n",
        "print(multi)\n"
      ],
      "metadata": {
        "id": "YrirXU0w7Fif",
        "colab": {
          "base_uri": "https://localhost:8080/"
        },
        "outputId": "f8cd357f-a3a2-4120-fed7-08fd20dabcf7"
      },
      "execution_count": null,
      "outputs": [
        {
          "output_type": "stream",
          "name": "stdout",
          "text": [
            "[[1. 6. 3. 8.]\n",
            " [3. 6. 5. 5.]\n",
            " [9. 3. 9. 7.]\n",
            " [6. 3. 3. 5.]]\n"
          ]
        }
      ]
    },
    {
      "cell_type": "code",
      "source": [
        "'''(4)Perform matrix multiplication on two 3x3 matrices: a = [[1, 2, 3], [4, 5, 6], [7, 8, 9]]\n",
        "and b = [[9, 8, 7], [6, 5, 4], [3, 2, 1]].'''\n",
        "a = np.array([[1, 2, 3], [4, 5, 6], [7, 8, 9]])\n",
        "b =np.array= ([[9, 8, 7], [6, 5, 4], [3, 2, 1]])\n",
        "multi=np.matmul(a,b)\n",
        "print(multi)"
      ],
      "metadata": {
        "colab": {
          "base_uri": "https://localhost:8080/"
        },
        "id": "f4i6auw-Dy-z",
        "outputId": "875f0a4a-1339-4ab9-fb02-24791f282953"
      },
      "execution_count": null,
      "outputs": [
        {
          "output_type": "stream",
          "name": "stdout",
          "text": [
            "[[ 30  24  18]\n",
            " [ 84  69  54]\n",
            " [138 114  90]]\n"
          ]
        }
      ]
    },
    {
      "cell_type": "code",
      "source": [
        "#(5)Create a 2x3 matrix and a 3x2 matrix. Perform matrix multiplication.\n",
        "ar=np.array([[2,3,4],[3,2,6]])\n",
        "aar2=np.array([[2,3],[3,2],[5,6]])\n",
        "mul=np.dot(ar,aar2)\n",
        "print(mul)"
      ],
      "metadata": {
        "colab": {
          "base_uri": "https://localhost:8080/"
        },
        "id": "FZqV7asxEiF_",
        "outputId": "f03e328d-b3fe-4b87-e814-912af0aae4ec"
      },
      "execution_count": null,
      "outputs": [
        {
          "output_type": "stream",
          "name": "stdout",
          "text": [
            "[[33 36]\n",
            " [42 49]]\n"
          ]
        }
      ]
    },
    {
      "cell_type": "code",
      "source": [
        "#{{{{{{{{{{BROADCASTING}}}}}}}}}}\n",
        "#(1)Create a 1D array: array = [10, 20, 30]. Subtract a scalar value, 5, using broadcasting.\n",
        "arr = np.array([10, 20, 30])\n",
        "scalar = 5\n",
        "#broadcasting\n",
        "sub = arr - scalar\n",
        "print (sub)\n",
        "\n"
      ],
      "metadata": {
        "colab": {
          "base_uri": "https://localhost:8080/"
        },
        "id": "VuWzVC9ZEGr-",
        "outputId": "49d887f2-9a6f-4196-ad5e-34f093e781bb"
      },
      "execution_count": null,
      "outputs": [
        {
          "output_type": "stream",
          "name": "stdout",
          "text": [
            "[ 5 15 25]\n"
          ]
        }
      ]
    },
    {
      "cell_type": "code",
      "source": [
        "\n",
        "#(2)Create a 3x3 array and a 3x1 array. Add them using broadcasting.\n",
        "a=np.arange(9).reshape(3,3)\n",
        "print(a)\n",
        "b=np.array([[1],[2],[3]])\n",
        "print(b)\n",
        "c=a+b\n",
        "print(c)\n"
      ],
      "metadata": {
        "colab": {
          "base_uri": "https://localhost:8080/"
        },
        "id": "7HOTvXIqVBi9",
        "outputId": "3dbfe4f0-a954-49b1-df28-49c43bf75fc3"
      },
      "execution_count": null,
      "outputs": [
        {
          "output_type": "stream",
          "name": "stdout",
          "text": [
            "[[0 1 2]\n",
            " [3 4 5]\n",
            " [6 7 8]]\n",
            "[[1]\n",
            " [2]\n",
            " [3]]\n",
            "[[ 1  2  3]\n",
            " [ 5  6  7]\n",
            " [ 9 10 11]]\n"
          ]
        }
      ]
    },
    {
      "cell_type": "code",
      "source": [
        "#(3)Divide a 4x4 array by a scalar value, 2, using broadcasting.\n",
        "import numpy as np\n",
        "arr=np.array([1,2,3,5,34,5,42,22,32,23,2,33,44,3,43,5])\n",
        "aa=arr.reshape(4,4)\n",
        "print(aa)\n",
        "scalar=2\n",
        "#broadcasting\n",
        "div=aa/scalar\n",
        "print(div)\n",
        "\n",
        "\n"
      ],
      "metadata": {
        "id": "-HUtMBoLGr_t",
        "colab": {
          "base_uri": "https://localhost:8080/"
        },
        "outputId": "cb14d6f7-7522-456b-d5af-69af5b8b260b"
      },
      "execution_count": null,
      "outputs": [
        {
          "output_type": "stream",
          "name": "stdout",
          "text": [
            "[[ 1  2  3  5]\n",
            " [34  5 42 22]\n",
            " [32 23  2 33]\n",
            " [44  3 43  5]]\n",
            "[[ 0.5  1.   1.5  2.5]\n",
            " [17.   2.5 21.  11. ]\n",
            " [16.  11.5  1.  16.5]\n",
            " [22.   1.5 21.5  2.5]]\n"
          ]
        }
      ]
    },
    {
      "cell_type": "code",
      "source": [
        "#(4)Create a 3x3 array and add 3 to each element using broadcasting.\n",
        "arr=np.arange(9).reshape(3,3)\n",
        "print(arr)\n",
        "print(arr+3)"
      ],
      "metadata": {
        "colab": {
          "base_uri": "https://localhost:8080/"
        },
        "id": "v-6c97dyWMS7",
        "outputId": "d0854efd-8d8c-4f32-da6d-16a053648078"
      },
      "execution_count": null,
      "outputs": [
        {
          "output_type": "stream",
          "name": "stdout",
          "text": [
            "[[0 1 2]\n",
            " [3 4 5]\n",
            " [6 7 8]]\n",
            "[[ 3  4  5]\n",
            " [ 6  7  8]\n",
            " [ 9 10 11]]\n"
          ]
        }
      ]
    },
    {
      "cell_type": "code",
      "source": [
        "#(5)Multiply a 1D array of shape (5,) by a 2D array of shape (5, 5) using broadcasting.\n",
        "import numpy as np\n",
        "arr_1=np.array([1,2,3,4,5])\n",
        "arr_2=np.array([[6,7,8,9,10],[11,12,13,14,15],[16,17,18,19,20],[21,22,23,24,25],[26,27,28,29,30]])\n",
        "broadcasting=arr_1[:np.newaxis]*arr_2\n",
        "print(broadcasting)"
      ],
      "metadata": {
        "colab": {
          "base_uri": "https://localhost:8080/"
        },
        "id": "mN_Iim6hkBq-",
        "outputId": "41dc1b6e-6834-42f4-a645-79109f2bfff7"
      },
      "execution_count": 2,
      "outputs": [
        {
          "output_type": "stream",
          "name": "stdout",
          "text": [
            "[[  6  14  24  36  50]\n",
            " [ 11  24  39  56  75]\n",
            " [ 16  34  54  76 100]\n",
            " [ 21  44  69  96 125]\n",
            " [ 26  54  84 116 150]]\n"
          ]
        }
      ]
    },
    {
      "cell_type": "code",
      "source": [
        "#{{{{{{{{{STATISTICAL OPERATIONS }}}}}}}}}\n",
        "#(1)Calculate the median of the array: data = [1, 2, 3, 4, 5, 6, 7, 8, 9, 10].\n",
        "arr=np.array([1,2,3,4,5,6,7,8,9,10])\n",
        "print(np.median(arr))"
      ],
      "metadata": {
        "colab": {
          "base_uri": "https://localhost:8080/"
        },
        "id": "jswEMrydizJD",
        "outputId": "a822f5a0-b1b0-4e8f-ef17-0d7dad1e4ebf"
      },
      "execution_count": null,
      "outputs": [
        {
          "output_type": "stream",
          "name": "stdout",
          "text": [
            "5.5\n"
          ]
        }
      ]
    },
    {
      "cell_type": "code",
      "source": [
        "#(2)Calculate the mode of the array: data = [1, 2, 2, 3, 4, 4, 4, 5, 6].\n",
        "from scipy import stats\n",
        "arr=np.array([1,2,2,3,4,4,4,5,6,])\n",
        "print(stats.mode(arr))"
      ],
      "metadata": {
        "colab": {
          "base_uri": "https://localhost:8080/"
        },
        "id": "KQEHAygzkp54",
        "outputId": "fd90230d-ea3e-4843-a7f6-02bedacfb371"
      },
      "execution_count": null,
      "outputs": [
        {
          "output_type": "stream",
          "name": "stdout",
          "text": [
            "ModeResult(mode=4, count=3)\n"
          ]
        }
      ]
    },
    {
      "cell_type": "code",
      "source": [
        "#(3)Calculate the range of the array: data = [10, 20, 30, 40, 50].\n",
        "arr=np.array([10,20,30,40,50])\n",
        "range_find=np.ptp(arr)\n",
        "print(range_find)"
      ],
      "metadata": {
        "colab": {
          "base_uri": "https://localhost:8080/"
        },
        "id": "ph-vmVELHwAq",
        "outputId": "9d888bf2-a7af-4376-c8f0-312c42098984"
      },
      "execution_count": null,
      "outputs": [
        {
          "output_type": "stream",
          "name": "stdout",
          "text": [
            "40\n"
          ]
        }
      ]
    },
    {
      "cell_type": "code",
      "source": [
        "#(4)Calculate the 25th percentile of the array: data = [1, 2, 3, 4, 5, 6, 7, 8, 9, 10].\n",
        "arr=np.array([1, 2, 3, 4, 5, 6, 7, 8, 9, 10])\n",
        "percentile_arr=np.percentile(arr,25)\n",
        "print(percentile_arr)"
      ],
      "metadata": {
        "colab": {
          "base_uri": "https://localhost:8080/"
        },
        "id": "4-Jh9XloHzmL",
        "outputId": "e0ec9fac-0879-4777-ab0a-e8619c65c052"
      },
      "execution_count": null,
      "outputs": [
        {
          "output_type": "stream",
          "name": "stdout",
          "text": [
            "3.25\n"
          ]
        }
      ]
    },
    {
      "cell_type": "code",
      "source": [
        "'''(5)Calculate the correlation coefficient between two arrays: a = [1, 2, 3, 4, 5] and b = [2,\n",
        "4, 6, 8, 10].'''\n",
        "a=[1,2,3,4,5]\n",
        "b=[2,4,6,8,10]\n",
        "correlation=np.corrcoef(a,b)\n",
        "print(correlation)"
      ],
      "metadata": {
        "colab": {
          "base_uri": "https://localhost:8080/"
        },
        "id": "djw9bWzkJCm7",
        "outputId": "f05e5fcc-7618-4460-a32e-a529ba73a17b"
      },
      "execution_count": null,
      "outputs": [
        {
          "output_type": "stream",
          "name": "stdout",
          "text": [
            "[[1. 1.]\n",
            " [1. 1.]]\n"
          ]
        }
      ]
    },
    {
      "cell_type": "code",
      "source": [
        "#{{{{{{{{{{{RESHAPING ARRAYS}}}}}}}}}}}\n",
        "#(1)Reshape a 1D array of 12 elements to a 3x4 array.\n",
        "aar=np.array([1,2,3,4,5,6,7,8,9,10,11,12])\n",
        "print(aar.reshape(3,4))"
      ],
      "metadata": {
        "colab": {
          "base_uri": "https://localhost:8080/"
        },
        "id": "WupP5Fv6lexF",
        "outputId": "80165b5f-5819-4749-96e5-080ac47703f3"
      },
      "execution_count": null,
      "outputs": [
        {
          "output_type": "stream",
          "name": "stdout",
          "text": [
            "[[ 1  2  3  4]\n",
            " [ 5  6  7  8]\n",
            " [ 9 10 11 12]]\n"
          ]
        }
      ]
    },
    {
      "cell_type": "code",
      "source": [
        "#(2)Reshape a 2D array of shape (6, 2) to (3, 4).\n",
        "aarr=np.array([[1,2,3,4,5,6],[7,8,9,10,11,12]])\n",
        "print(aarr)\n",
        "print(aarr.reshape(3,4))"
      ],
      "metadata": {
        "colab": {
          "base_uri": "https://localhost:8080/"
        },
        "id": "JHCVnkJkmgmT",
        "outputId": "b3e77775-0631-462b-f3bf-e1f069fbb314"
      },
      "execution_count": null,
      "outputs": [
        {
          "output_type": "stream",
          "name": "stdout",
          "text": [
            "[[ 1  2  3  4  5  6]\n",
            " [ 7  8  9 10 11 12]]\n",
            "[[ 1  2  3  4]\n",
            " [ 5  6  7  8]\n",
            " [ 9 10 11 12]]\n"
          ]
        }
      ]
    },
    {
      "cell_type": "code",
      "source": [
        "#(3)Create a 4x4 array and flatten it.\n",
        "aa=np.array([[[[1,2,3,4],[5,6,7,8],[9,10,11,12],[13,14,15,16]]]])\n",
        "print(aa)\n",
        "print(aa.flatten())\n"
      ],
      "metadata": {
        "colab": {
          "base_uri": "https://localhost:8080/"
        },
        "id": "VMXegosXnHBU",
        "outputId": "d60bc5d6-6f1e-4b15-fbd8-b826697dae8d"
      },
      "execution_count": null,
      "outputs": [
        {
          "output_type": "stream",
          "name": "stdout",
          "text": [
            "[[[[ 1  2  3  4]\n",
            "   [ 5  6  7  8]\n",
            "   [ 9 10 11 12]\n",
            "   [13 14 15 16]]]]\n",
            "[ 1  2  3  4  5  6  7  8  9 10 11 12 13 14 15 16]\n"
          ]
        }
      ]
    },
    {
      "cell_type": "code",
      "source": [
        "#(4)Reshape a 3D array of shape (2, 3, 4) to (4, 3, 2).\n",
        "a=np.arange(24).reshape(2,3,4)\n",
        "print(a)\n",
        "b=a.reshape(4,3,2)\n",
        "print(b)"
      ],
      "metadata": {
        "colab": {
          "base_uri": "https://localhost:8080/"
        },
        "id": "etLWwsCt-kdn",
        "outputId": "efffbb22-4d80-43c2-c6ce-a395bb5d806a"
      },
      "execution_count": null,
      "outputs": [
        {
          "output_type": "stream",
          "name": "stdout",
          "text": [
            "[[[ 0  1  2  3]\n",
            "  [ 4  5  6  7]\n",
            "  [ 8  9 10 11]]\n",
            "\n",
            " [[12 13 14 15]\n",
            "  [16 17 18 19]\n",
            "  [20 21 22 23]]]\n",
            "[[[ 0  1]\n",
            "  [ 2  3]\n",
            "  [ 4  5]]\n",
            "\n",
            " [[ 6  7]\n",
            "  [ 8  9]\n",
            "  [10 11]]\n",
            "\n",
            " [[12 13]\n",
            "  [14 15]\n",
            "  [16 17]]\n",
            "\n",
            " [[18 19]\n",
            "  [20 21]\n",
            "  [22 23]]]\n"
          ]
        }
      ]
    },
    {
      "cell_type": "code",
      "source": [
        "#(5)Reshape a 1D array to a 2D array with 1 row and many columns.\n",
        "aa1D=np.array([1,2,3,4,5,6,7,8,9,10])\n",
        "aa2D=aa1D.reshape(1,-1)\n",
        "print(aa1D)\n",
        "print(aa2D)"
      ],
      "metadata": {
        "colab": {
          "base_uri": "https://localhost:8080/"
        },
        "id": "XKy4C1C68PFJ",
        "outputId": "a54da8f9-249d-4213-d446-bee0ca5ce4f8"
      },
      "execution_count": null,
      "outputs": [
        {
          "output_type": "stream",
          "name": "stdout",
          "text": [
            "[ 1  2  3  4  5  6  7  8  9 10]\n",
            "[[ 1  2  3  4  5  6  7  8  9 10]]\n"
          ]
        }
      ]
    },
    {
      "cell_type": "code",
      "source": [
        "#{{{{{{{{{{{ELEMENT-WISE OPERATIONS }}}}}}}}}}}\n",
        "#(1)Create two arrays: a = [1, 3, 5] and b = [2, 4, 6]. Perform element-wise division.\n",
        "a = np.array([1,3,5])\n",
        "b = np.array([2,4,6])\n",
        "print(a/b)"
      ],
      "metadata": {
        "colab": {
          "base_uri": "https://localhost:8080/"
        },
        "id": "AaL9-LXhAZC5",
        "outputId": "46ca3544-3ea2-4313-fd8c-036314d4509a"
      },
      "execution_count": null,
      "outputs": [
        {
          "output_type": "stream",
          "name": "stdout",
          "text": [
            "[0.5        0.75       0.83333333]\n"
          ]
        }
      ]
    },
    {
      "cell_type": "code",
      "source": [
        "#(2)Create two arrays: a = [2, 4, 6] and b = [1, 3, 5]. Perform element-wise modulus.\n",
        "a =np.array([2,4,6])\n",
        "b =np.array([1,3,5])\n",
        "print(a%b)"
      ],
      "metadata": {
        "colab": {
          "base_uri": "https://localhost:8080/"
        },
        "id": "ws-PVTGHA7KE",
        "outputId": "baa5b88e-1b46-4982-e0ff-8211af669813"
      },
      "execution_count": null,
      "outputs": [
        {
          "output_type": "stream",
          "name": "stdout",
          "text": [
            "[0 1 1]\n"
          ]
        }
      ]
    },
    {
      "cell_type": "code",
      "source": [
        "#(3)Add 10 to each element in the array: a = [1, 2, 3, 4, 5].\n",
        "aar=np.array([1,2,3,4,5])\n",
        "ad=aar+10\n",
        "print(aar)\n",
        "print(ad)"
      ],
      "metadata": {
        "colab": {
          "base_uri": "https://localhost:8080/"
        },
        "id": "ChWX2pVJBQVS",
        "outputId": "0184485b-7080-473d-807d-3316bdcf1b88"
      },
      "execution_count": null,
      "outputs": [
        {
          "output_type": "stream",
          "name": "stdout",
          "text": [
            "[1 2 3 4 5]\n",
            "[11 12 13 14 15]\n"
          ]
        }
      ]
    },
    {
      "cell_type": "code",
      "source": [
        "#(4)Subtract 5 from each element in the array: b = [10, 20, 30, 40, 50].\n",
        "b = np.array([10,20,30,40,50])\n",
        "sub=b-5\n",
        "print(sub)\n"
      ],
      "metadata": {
        "colab": {
          "base_uri": "https://localhost:8080/"
        },
        "id": "6H9SenHJCNlq",
        "outputId": "561da272-5524-4d75-9a06-687a9665e036"
      },
      "execution_count": null,
      "outputs": [
        {
          "output_type": "stream",
          "name": "stdout",
          "text": [
            "[ 5 15 25 35 45]\n"
          ]
        }
      ]
    },
    {
      "cell_type": "code",
      "source": [
        "#(5)Square each element in the array: c = [1, 2, 3, 4, 5].\n",
        "c =np.array([1, 2, 3, 4, 5])\n",
        "print(c**2)"
      ],
      "metadata": {
        "colab": {
          "base_uri": "https://localhost:8080/"
        },
        "id": "8_rBVYsjCmkn",
        "outputId": "761a7f3a-271f-42a7-fe17-6a3f262219db"
      },
      "execution_count": null,
      "outputs": [
        {
          "output_type": "stream",
          "name": "stdout",
          "text": [
            "[ 1  4  9 16 25]\n"
          ]
        }
      ]
    },
    {
      "cell_type": "code",
      "source": [
        "#{{{{{{{{{{SLICING AND INDEXING}}}}}}}}}}\n",
        "'''(1)Create a 3D array: array_3d = [[[1, 2, 3], [4, 5, 6]], [[7, 8, 9], [10, 11, 12]]]. Access\n",
        "the element at [1, 1, 1].'''\n",
        "array_3d=np.array([[[1, 2, 3],[4, 5, 6]],[[7,8,9],[10,11,12]]])\n",
        "slic= array_3d[1,1,1]\n",
        "print(slic)"
      ],
      "metadata": {
        "colab": {
          "base_uri": "https://localhost:8080/"
        },
        "id": "N2V8rua9XhJH",
        "outputId": "417932ad-30f0-407c-dbf4-a952d541e721"
      },
      "execution_count": null,
      "outputs": [
        {
          "output_type": "stream",
          "name": "stdout",
          "text": [
            "11\n"
          ]
        }
      ]
    },
    {
      "cell_type": "code",
      "source": [
        "'''(2)Slice the first layer of a 3D array: array_3d = [[[1, 2, 3], [4, 5, 6]], [[7, 8, 9], [10, 11,\n",
        "12]]].'''\n",
        "array_3d =np.array([[[1,2,3],[4,5,6]],[[7,8,9],[10, 11,12]]])\n",
        "eleslice=array_3d[0:1,]\n",
        "print(eleslice)"
      ],
      "metadata": {
        "colab": {
          "base_uri": "https://localhost:8080/"
        },
        "id": "vJf66uLZXhgX",
        "outputId": "e4eb93e6-ab49-4e7e-c9da-1312512b3e56"
      },
      "execution_count": 4,
      "outputs": [
        {
          "output_type": "stream",
          "name": "stdout",
          "text": [
            "[[[1 2 3]\n",
            "  [4 5 6]]]\n"
          ]
        }
      ]
    },
    {
      "cell_type": "code",
      "source": [
        "'''(3)Access all elements in the last row of the array: array_2d = [[10, 20, 30], [40, 50, 60],\n",
        "[70, 80, 90]].'''\n",
        "array_2d =np.array([[10, 20, 30], [40, 50, 60],[70, 80, 90]])\n",
        "elearray=array_2d[-1:,]\n",
        "print(elearray)\n"
      ],
      "metadata": {
        "colab": {
          "base_uri": "https://localhost:8080/"
        },
        "id": "wFzqJiJSXhsK",
        "outputId": "3975cfcc-e9d9-4967-97dc-2dedac4ab250"
      },
      "execution_count": 5,
      "outputs": [
        {
          "output_type": "stream",
          "name": "stdout",
          "text": [
            "[[70 80 90]]\n"
          ]
        }
      ]
    },
    {
      "cell_type": "code",
      "source": [
        "'''(4)Access all elements in the first column of the array: array_2d = [[10, 20, 30], [40, 50,\n",
        "60], [70, 80, 90]].'''\n",
        "array_2d =np.array([[10, 20, 30], [40, 50,60], [70, 80, 90]])\n",
        "elearr=array_2d[:,:-1]\n",
        "print(elearr)"
      ],
      "metadata": {
        "id": "sXU1B_WqXh23",
        "colab": {
          "base_uri": "https://localhost:8080/"
        },
        "outputId": "b550ce75-4780-4bfb-9717-01768c793c62"
      },
      "execution_count": 7,
      "outputs": [
        {
          "output_type": "stream",
          "name": "stdout",
          "text": [
            "[[10 20]\n",
            " [40 50]\n",
            " [70 80]]\n"
          ]
        }
      ]
    },
    {
      "cell_type": "code",
      "source": [
        "'''(5)Slice the last two rows and columns of the array: array_2d = [[10, 20, 30], [40, 50,\n",
        "60], [70, 80, 90]].'''\n",
        "array_2d = np.array([[10, 20, 30], [40, 50,60], [70, 80, 90]])\n",
        "ele=array_2d[-2:,-2:]\n",
        "print(ele)"
      ],
      "metadata": {
        "id": "KRCCJeTxaZln",
        "colab": {
          "base_uri": "https://localhost:8080/"
        },
        "outputId": "313a3cb9-d3d1-4808-cd70-d373e5698abf"
      },
      "execution_count": 8,
      "outputs": [
        {
          "output_type": "stream",
          "name": "stdout",
          "text": [
            "[[50 60]\n",
            " [80 90]]\n"
          ]
        }
      ]
    },
    {
      "cell_type": "code",
      "source": [
        "#{{{{{{{{{{{CREATING RANDOM ARRAYS}}}}}}}}}}}\n",
        "#(1)Generate a random array of 20 elements with values between 0 and 1.\n",
        "aar=np.random.rand(20)\n",
        "print(aar)"
      ],
      "metadata": {
        "colab": {
          "base_uri": "https://localhost:8080/"
        },
        "id": "a9G1vXzqoapW",
        "outputId": "eff0dd47-4cd4-4fb5-d10e-099e239397e8"
      },
      "execution_count": null,
      "outputs": [
        {
          "output_type": "stream",
          "name": "stdout",
          "text": [
            "[0.81436467 0.43317458 0.1854284  0.15590971 0.21488365 0.57676791\n",
            " 0.76901981 0.7336795  0.94451824 0.66553222 0.13186288 0.49591822\n",
            " 0.66525686 0.40966559 0.71274736 0.4692521  0.55014491 0.80671165\n",
            " 0.06785576 0.61938379]\n"
          ]
        }
      ]
    },
    {
      "cell_type": "code",
      "source": [
        "#(2)Create a 4x4 array with random integers between 10 and 20.\n",
        "aar=np.random.randint(10,20,(4,4))\n",
        "print(aar)"
      ],
      "metadata": {
        "colab": {
          "base_uri": "https://localhost:8080/"
        },
        "id": "p1zqWyRYqGtV",
        "outputId": "9aceba73-0cd0-4a68-c08b-287b001a275b"
      },
      "execution_count": null,
      "outputs": [
        {
          "output_type": "stream",
          "name": "stdout",
          "text": [
            "[[14 12 19 12]\n",
            " [19 15 15 15]\n",
            " [18 14 11 15]\n",
            " [12 18 14 15]]\n"
          ]
        }
      ]
    },
    {
      "cell_type": "code",
      "source": [
        "#(3)Create a 3x3 array with random floats between -1 and 1.\n",
        "aa=np.random.randint(-1,1,(3,3))\n",
        "print(aa)"
      ],
      "metadata": {
        "colab": {
          "base_uri": "https://localhost:8080/"
        },
        "id": "7ZZY4Bl3qc_H",
        "outputId": "7bc372f2-1001-4cd6-ba99-ddf15ddf8659"
      },
      "execution_count": null,
      "outputs": [
        {
          "output_type": "stream",
          "name": "stdout",
          "text": [
            "[[-1  0 -1]\n",
            " [ 0 -1  0]\n",
            " [ 0 -1  0]]\n"
          ]
        }
      ]
    },
    {
      "cell_type": "code",
      "source": [
        "#(4)Generate an array of 15 random integers between 100 and 200.\n",
        "rr=np.random.randint(100,200,15)\n",
        "print(rr)"
      ],
      "metadata": {
        "colab": {
          "base_uri": "https://localhost:8080/"
        },
        "id": "5F0H6kXmq15R",
        "outputId": "7bd3385d-d81f-4a93-e5e7-24e02e3b4599"
      },
      "execution_count": null,
      "outputs": [
        {
          "output_type": "stream",
          "name": "stdout",
          "text": [
            "[122 179 136 181 175 127 182 107 135 176 111 181 126 187 183]\n"
          ]
        }
      ]
    },
    {
      "cell_type": "code",
      "source": [
        "#(5)Create a 5x5 array with random floats between 0 and 10.\n",
        "a=np.random.randint(0,10,(5,5))\n",
        "print(a)"
      ],
      "metadata": {
        "colab": {
          "base_uri": "https://localhost:8080/"
        },
        "id": "REz-XV_Ysrwx",
        "outputId": "e4e4ee2b-4e07-4e9d-d4ed-a29674d85a16"
      },
      "execution_count": null,
      "outputs": [
        {
          "output_type": "stream",
          "name": "stdout",
          "text": [
            "[[3 0 7 0 3]\n",
            " [6 8 4 6 4]\n",
            " [4 0 6 9 2]\n",
            " [7 9 5 1 9]\n",
            " [8 3 3 1 7]]\n"
          ]
        }
      ]
    },
    {
      "cell_type": "code",
      "source": [
        "#{{{{{{{{{STACKING AND CONCATENATING ARRAYS}}}}}}}}}\n",
        "#(1)Vertically stack two arrays: a = [[1, 2], [3, 4]] and b = [[5, 6], [7, 8]].\n",
        "arr1=np.array([[1,2],[3,4]])\n",
        "arr2=np.array([[5,6],[7,8]])\n",
        "v_stack = np.vstack([arr1,arr2])\n",
        "print(v_stack)\n"
      ],
      "metadata": {
        "id": "pJmaEJ74s7QN",
        "colab": {
          "base_uri": "https://localhost:8080/"
        },
        "outputId": "af7382f3-29d6-478a-a3bc-301b6b5f049e"
      },
      "execution_count": null,
      "outputs": [
        {
          "output_type": "stream",
          "name": "stdout",
          "text": [
            "[[1 2]\n",
            " [3 4]\n",
            " [5 6]\n",
            " [7 8]]\n"
          ]
        }
      ]
    },
    {
      "cell_type": "code",
      "source": [
        "#(2)Horizontally stack two arrays: a = [[1, 2], [3, 4]] and b = [[5, 6], [7, 8]].\n",
        "arr1=np.array([[1,2],[3,4]])\n",
        "arr2=np.array([[5,6],[7,8]])\n",
        "h_stack=np.hstack([arr1,arr2])\n",
        "print(h_stack)"
      ],
      "metadata": {
        "colab": {
          "base_uri": "https://localhost:8080/"
        },
        "id": "eKD_yZ9S2Yk_",
        "outputId": "836f57e0-feeb-434b-b6d0-5e5053734ffa"
      },
      "execution_count": null,
      "outputs": [
        {
          "output_type": "stream",
          "name": "stdout",
          "text": [
            "[[1 2 5 6]\n",
            " [3 4 7 8]]\n"
          ]
        }
      ]
    },
    {
      "cell_type": "code",
      "source": [
        "#(3)Concatenate two 1D arrays: a = [1, 2, 3] and b = [4, 5, 6].\n",
        "a=np.array([1,2,3])\n",
        "b=np.array([4,5,6])\n",
        "con=np.concatenate([a,b])\n",
        "print(con)"
      ],
      "metadata": {
        "id": "JxzQFb2GsrCH",
        "colab": {
          "base_uri": "https://localhost:8080/"
        },
        "outputId": "2a089c2e-affd-4e1c-afbd-f87909b574f0"
      },
      "execution_count": null,
      "outputs": [
        {
          "output_type": "stream",
          "name": "stdout",
          "text": [
            "[1 2 3 4 5 6]\n"
          ]
        }
      ]
    },
    {
      "cell_type": "code",
      "source": [
        "'''(4)Concatenate two 3x3 arrays along rows: a = [[1, 2, 3], [4, 5, 6], [7, 8, 9]] and b = [[10,\n",
        "11, 12], [13, 14, 15], [16, 17, 18]].'''\n",
        "a=np.array([[[1,2,3],[4,5,6],[7,8,9]]])\n",
        "b=np.array([[[10,11,12],[13,14,15],[16,17,18]]])\n",
        "conc=np.concatenate((a,b),axis=0)\n",
        "print(conc)"
      ],
      "metadata": {
        "colab": {
          "base_uri": "https://localhost:8080/"
        },
        "id": "Mypv2bWT34wi",
        "outputId": "a8cd18bf-8a3f-45f4-bd5e-7daed6a12b27"
      },
      "execution_count": null,
      "outputs": [
        {
          "output_type": "stream",
          "name": "stdout",
          "text": [
            "[[[ 1  2  3]\n",
            "  [ 4  5  6]\n",
            "  [ 7  8  9]]\n",
            "\n",
            " [[10 11 12]\n",
            "  [13 14 15]\n",
            "  [16 17 18]]]\n"
          ]
        }
      ]
    },
    {
      "cell_type": "code",
      "source": [
        "'''(5)Concatenate two 3x3 arrays along columns: a = [[1, 2, 3], [4, 5, 6], [7, 8, 9]] and b =\n",
        "[[10, 11, 12], [13, 14, 15], [16, 17, 18]].'''\n",
        "a=np.array([[[1,2,3],[4,5,6],[7,8,9]]])\n",
        "b=np.array([[[10,11,12],[13,14,15],[16,17,18]]])\n",
        "conci=conc=np.concatenate((a,b),axis=1)\n",
        "print(conci)"
      ],
      "metadata": {
        "colab": {
          "base_uri": "https://localhost:8080/"
        },
        "id": "QXMjScY36-AT",
        "outputId": "b5e9e375-8ff0-4a8c-cdf5-140263dcf8f8"
      },
      "execution_count": null,
      "outputs": [
        {
          "output_type": "stream",
          "name": "stdout",
          "text": [
            "[[[ 1  2  3]\n",
            "  [ 4  5  6]\n",
            "  [ 7  8  9]\n",
            "  [10 11 12]\n",
            "  [13 14 15]\n",
            "  [16 17 18]]]\n"
          ]
        }
      ]
    }
  ]
}